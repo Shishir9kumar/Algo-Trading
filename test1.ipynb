{
 "cells": [
  {
   "cell_type": "code",
   "execution_count": 3,
   "metadata": {
    "collapsed": false
   },
   "outputs": [
   ],
   "source": [
    "import pandas as pd\n",
    "import numpy as np"
   ]
  },
  {
   "cell_type": "code",
   "execution_count": 4,
   "metadata": {
    "collapsed": false
   },
   "outputs": [
   ],
   "source": [
    "myDf = pd.read_csv(\"stocks.csv\")"
   ]
  },
  {
   "cell_type": "code",
   "execution_count": 5,
   "metadata": {
    "collapsed": false
   },
   "outputs": [
    {
     "data": {
      "text/html": [
       "<div>\n",
       "<style scoped>\n",
       "    .dataframe tbody tr th:only-of-type {\n",
       "        vertical-align: middle;\n",
       "    }\n",
       "\n",
       "    .dataframe tbody tr th {\n",
       "        vertical-align: top;\n",
       "    }\n",
       "\n",
       "    .dataframe thead th {\n",
       "        text-align: right;\n",
       "    }\n",
       "</style>\n",
       "<table border=\"1\" class=\"dataframe\">\n",
       "  <thead>\n",
       "    <tr style=\"text-align: right;\">\n",
       "      <th></th>\n",
       "      <th>timeStamp</th>\n",
       "      <th>TSLA_open</th>\n",
       "      <th>AAPL_open</th>\n",
       "      <th>NVDA_open</th>\n",
       "      <th>ORCL_open</th>\n",
       "      <th>SPY_open</th>\n",
       "      <th>MSFT_open</th>\n",
       "      <th>C_open</th>\n",
       "      <th>FB_open</th>\n",
       "      <th>QQQ_open</th>\n",
       "      <th>...</th>\n",
       "      <th>INTC_open</th>\n",
       "      <th>PFE_open</th>\n",
       "      <th>BAC_open</th>\n",
       "      <th>NFLX_open</th>\n",
       "      <th>MU_open</th>\n",
       "      <th>XOM_open</th>\n",
       "      <th>GILD_open</th>\n",
       "      <th>SNAP_open</th>\n",
       "      <th>GE_open</th>\n",
       "      <th>IWM_open</th>\n",
       "    </tr>\n",
       "  </thead>\n",
       "  <tbody>\n",
       "    <tr>\n",
       "      <th>0</th>\n",
       "      <td>2020-08-14 09:30:00-04:00</td>\n",
       "      <td>332.9980</td>\n",
       "      <td>114.8288</td>\n",
       "      <td>461.2000</td>\n",
       "      <td>54.030</td>\n",
       "      <td>336.410</td>\n",
       "      <td>208.76</td>\n",
       "      <td>52.450</td>\n",
       "      <td>262.3050</td>\n",
       "      <td>273.01</td>\n",
       "      <td>...</td>\n",
       "      <td>48.730</td>\n",
       "      <td>38.0100</td>\n",
       "      <td>26.0600</td>\n",
       "      <td>482.820</td>\n",
       "      <td>45.600</td>\n",
       "      <td>42.6000</td>\n",
       "      <td>68.090</td>\n",
       "      <td>21.9000</td>\n",
       "      <td>6.5400</td>\n",
       "      <td>156.28</td>\n",
       "    </tr>\n",
       "    <tr>\n",
       "      <th>1</th>\n",
       "      <td>2020-08-14 09:31:00-04:00</td>\n",
       "      <td>330.6161</td>\n",
       "      <td>114.7500</td>\n",
       "      <td>461.2800</td>\n",
       "      <td>53.865</td>\n",
       "      <td>336.420</td>\n",
       "      <td>208.93</td>\n",
       "      <td>52.565</td>\n",
       "      <td>261.9600</td>\n",
       "      <td>273.03</td>\n",
       "      <td>...</td>\n",
       "      <td>48.800</td>\n",
       "      <td>38.0600</td>\n",
       "      <td>26.1200</td>\n",
       "      <td>483.250</td>\n",
       "      <td>45.550</td>\n",
       "      <td>42.6608</td>\n",
       "      <td>68.170</td>\n",
       "      <td>21.9901</td>\n",
       "      <td>6.5300</td>\n",
       "      <td>156.47</td>\n",
       "    </tr>\n",
       "    <tr>\n",
       "      <th>2</th>\n",
       "      <td>2020-08-14 09:32:00-04:00</td>\n",
       "      <td>331.2920</td>\n",
       "      <td>114.6325</td>\n",
       "      <td>461.8016</td>\n",
       "      <td>53.810</td>\n",
       "      <td>336.160</td>\n",
       "      <td>208.40</td>\n",
       "      <td>52.700</td>\n",
       "      <td>262.1600</td>\n",
       "      <td>272.64</td>\n",
       "      <td>...</td>\n",
       "      <td>48.780</td>\n",
       "      <td>37.9900</td>\n",
       "      <td>26.1973</td>\n",
       "      <td>482.760</td>\n",
       "      <td>45.495</td>\n",
       "      <td>42.7500</td>\n",
       "      <td>68.120</td>\n",
       "      <td>21.9900</td>\n",
       "      <td>6.5500</td>\n",
       "      <td>156.50</td>\n",
       "    </tr>\n",
       "    <tr>\n",
       "      <th>3</th>\n",
       "      <td>2020-08-14 09:33:00-04:00</td>\n",
       "      <td>332.9500</td>\n",
       "      <td>114.6575</td>\n",
       "      <td>463.7550</td>\n",
       "      <td>53.890</td>\n",
       "      <td>336.415</td>\n",
       "      <td>208.92</td>\n",
       "      <td>52.560</td>\n",
       "      <td>262.3400</td>\n",
       "      <td>273.04</td>\n",
       "      <td>...</td>\n",
       "      <td>48.870</td>\n",
       "      <td>37.9618</td>\n",
       "      <td>26.1950</td>\n",
       "      <td>484.705</td>\n",
       "      <td>45.470</td>\n",
       "      <td>42.9100</td>\n",
       "      <td>68.255</td>\n",
       "      <td>22.0250</td>\n",
       "      <td>6.5499</td>\n",
       "      <td>156.67</td>\n",
       "    </tr>\n",
       "    <tr>\n",
       "      <th>4</th>\n",
       "      <td>2020-08-14 09:34:00-04:00</td>\n",
       "      <td>331.6272</td>\n",
       "      <td>114.4225</td>\n",
       "      <td>462.0636</td>\n",
       "      <td>53.960</td>\n",
       "      <td>336.130</td>\n",
       "      <td>208.93</td>\n",
       "      <td>52.470</td>\n",
       "      <td>261.8229</td>\n",
       "      <td>272.80</td>\n",
       "      <td>...</td>\n",
       "      <td>48.795</td>\n",
       "      <td>38.0000</td>\n",
       "      <td>26.1300</td>\n",
       "      <td>485.080</td>\n",
       "      <td>45.340</td>\n",
       "      <td>42.8300</td>\n",
       "      <td>68.200</td>\n",
       "      <td>22.0150</td>\n",
       "      <td>6.5450</td>\n",
       "      <td>156.42</td>\n",
       "    </tr>\n",
       "  </tbody>\n",
       "</table>\n",
       "<p>5 rows × 26 columns</p>\n",
       "</div>"
      ],
      "text/plain": [
       "                   timeStamp  TSLA_open  AAPL_open  NVDA_open  ORCL_open  \\\n",
       "0  2020-08-14 09:30:00-04:00   332.9980   114.8288   461.2000     54.030   \n",
       "1  2020-08-14 09:31:00-04:00   330.6161   114.7500   461.2800     53.865   \n",
       "2  2020-08-14 09:32:00-04:00   331.2920   114.6325   461.8016     53.810   \n",
       "3  2020-08-14 09:33:00-04:00   332.9500   114.6575   463.7550     53.890   \n",
       "4  2020-08-14 09:34:00-04:00   331.6272   114.4225   462.0636     53.960   \n",
       "\n",
       "   SPY_open  MSFT_open  C_open   FB_open  QQQ_open  ...  INTC_open  PFE_open  \\\n",
       "0   336.410     208.76  52.450  262.3050    273.01  ...     48.730   38.0100   \n",
       "1   336.420     208.93  52.565  261.9600    273.03  ...     48.800   38.0600   \n",
       "2   336.160     208.40  52.700  262.1600    272.64  ...     48.780   37.9900   \n",
       "3   336.415     208.92  52.560  262.3400    273.04  ...     48.870   37.9618   \n",
       "4   336.130     208.93  52.470  261.8229    272.80  ...     48.795   38.0000   \n",
       "\n",
       "   BAC_open  NFLX_open  MU_open  XOM_open  GILD_open  SNAP_open  GE_open  \\\n",
       "0   26.0600    482.820   45.600   42.6000     68.090    21.9000   6.5400   \n",
       "1   26.1200    483.250   45.550   42.6608     68.170    21.9901   6.5300   \n",
       "2   26.1973    482.760   45.495   42.7500     68.120    21.9900   6.5500   \n",
       "3   26.1950    484.705   45.470   42.9100     68.255    22.0250   6.5499   \n",
       "4   26.1300    485.080   45.340   42.8300     68.200    22.0150   6.5450   \n",
       "\n",
       "   IWM_open  \n",
       "0    156.28  \n",
       "1    156.47  \n",
       "2    156.50  \n",
       "3    156.67  \n",
       "4    156.42  \n",
       "\n",
       "[5 rows x 26 columns]"
      ]
     },
     "execution_count": 5,
     "metadata": {
     },
     "output_type": "execute_result"
    }
   ],
   "source": [
    "myDf.head()"
   ]
  },
  {
   "cell_type": "code",
   "execution_count": 6,
   "metadata": {
    "collapsed": false
   },
   "outputs": [
   ],
   "source": [
    "stocks_open = myDf.columns[1:]"
   ]
  },
  {
   "cell_type": "code",
   "execution_count": 7,
   "metadata": {
    "collapsed": false
   },
   "outputs": [
   ],
   "source": [
    "new_column_names = []\n",
    "for i in stocks_open:\n",
    "    new_column_names.append((\"\").join(i.split(\"open\")) + \"log_return\")"
   ]
  },
  {
   "cell_type": "code",
   "execution_count": 8,
   "metadata": {
    "collapsed": false
   },
   "outputs": [
    {
     "data": {
      "text/plain": [
       "(37470, 26)"
      ]
     },
     "execution_count": 8,
     "metadata": {
     },
     "output_type": "execute_result"
    }
   ],
   "source": [
    "myDf.shape"
   ]
  },
  {
   "cell_type": "code",
   "execution_count": 9,
   "metadata": {
    "collapsed": false
   },
   "outputs": [
   ],
   "source": [
    "log_df = pd.DataFrame( columns=new_column_names)"
   ]
  },
  {
   "cell_type": "code",
   "execution_count": 10,
   "metadata": {
    "collapsed": false
   },
   "outputs": [
    {
     "name": "stderr",
     "output_type": "stream",
     "text": [
      "<ipython-input-10-452ba0a00e40>:1: DeprecationWarning: The default dtype for empty Series will be 'object' instead of 'float64' in a future version. Specify a dtype explicitly to silence this warning.\n",
      "  log_df = log_df.append(pd.Series(), ignore_index=True)\n"
     ]
    }
   ],
   "source": [
    "log_df = log_df.append(pd.Series(), ignore_index=True)"
   ]
  },
  {
   "cell_type": "code",
   "execution_count": 11,
   "metadata": {
    "collapsed": false
   },
   "outputs": [
    {
     "data": {
      "text/html": [
       "<div>\n",
       "<style scoped>\n",
       "    .dataframe tbody tr th:only-of-type {\n",
       "        vertical-align: middle;\n",
       "    }\n",
       "\n",
       "    .dataframe tbody tr th {\n",
       "        vertical-align: top;\n",
       "    }\n",
       "\n",
       "    .dataframe thead th {\n",
       "        text-align: right;\n",
       "    }\n",
       "</style>\n",
       "<table border=\"1\" class=\"dataframe\">\n",
       "  <thead>\n",
       "    <tr style=\"text-align: right;\">\n",
       "      <th></th>\n",
       "      <th>TSLA_log_return</th>\n",
       "      <th>AAPL_log_return</th>\n",
       "      <th>NVDA_log_return</th>\n",
       "      <th>ORCL_log_return</th>\n",
       "      <th>SPY_log_return</th>\n",
       "      <th>MSFT_log_return</th>\n",
       "      <th>C_log_return</th>\n",
       "      <th>FB_log_return</th>\n",
       "      <th>QQQ_log_return</th>\n",
       "      <th>AMZN_log_return</th>\n",
       "      <th>...</th>\n",
       "      <th>INTC_log_return</th>\n",
       "      <th>PFE_log_return</th>\n",
       "      <th>BAC_log_return</th>\n",
       "      <th>NFLX_log_return</th>\n",
       "      <th>MU_log_return</th>\n",
       "      <th>XOM_log_return</th>\n",
       "      <th>GILD_log_return</th>\n",
       "      <th>SNAP_log_return</th>\n",
       "      <th>GE_log_return</th>\n",
       "      <th>IWM_log_return</th>\n",
       "    </tr>\n",
       "  </thead>\n",
       "  <tbody>\n",
       "    <tr>\n",
       "      <th>0</th>\n",
       "      <td>NaN</td>\n",
       "      <td>NaN</td>\n",
       "      <td>NaN</td>\n",
       "      <td>NaN</td>\n",
       "      <td>NaN</td>\n",
       "      <td>NaN</td>\n",
       "      <td>NaN</td>\n",
       "      <td>NaN</td>\n",
       "      <td>NaN</td>\n",
       "      <td>NaN</td>\n",
       "      <td>...</td>\n",
       "      <td>NaN</td>\n",
       "      <td>NaN</td>\n",
       "      <td>NaN</td>\n",
       "      <td>NaN</td>\n",
       "      <td>NaN</td>\n",
       "      <td>NaN</td>\n",
       "      <td>NaN</td>\n",
       "      <td>NaN</td>\n",
       "      <td>NaN</td>\n",
       "      <td>NaN</td>\n",
       "    </tr>\n",
       "  </tbody>\n",
       "</table>\n",
       "<p>1 rows × 25 columns</p>\n",
       "</div>"
      ],
      "text/plain": [
       "  TSLA_log_return AAPL_log_return NVDA_log_return ORCL_log_return  \\\n",
       "0             NaN             NaN             NaN             NaN   \n",
       "\n",
       "  SPY_log_return MSFT_log_return C_log_return FB_log_return QQQ_log_return  \\\n",
       "0            NaN             NaN          NaN           NaN            NaN   \n",
       "\n",
       "  AMZN_log_return  ... INTC_log_return PFE_log_return BAC_log_return  \\\n",
       "0             NaN  ...             NaN            NaN            NaN   \n",
       "\n",
       "  NFLX_log_return MU_log_return XOM_log_return GILD_log_return  \\\n",
       "0             NaN           NaN            NaN             NaN   \n",
       "\n",
       "  SNAP_log_return GE_log_return IWM_log_return  \n",
       "0             NaN           NaN            NaN  \n",
       "\n",
       "[1 rows x 25 columns]"
      ]
     },
     "execution_count": 11,
     "metadata": {
     },
     "output_type": "execute_result"
    }
   ],
   "source": [
    "log_df"
   ]
  },
  {
   "cell_type": "code",
   "execution_count": 12,
   "metadata": {
    "collapsed": false
   },
   "outputs": [
    {
     "data": {
      "text/plain": [
       "'for i in range(1,myDf.shape[0]-1):\\n    log_df.loc[i] = myDf.iloc[i,1:]/myDf.iloc[i+1,1:]\\n'"
      ]
     },
     "execution_count": 12,
     "metadata": {
     },
     "output_type": "execute_result"
    }
   ],
   "source": [
    "'''for i in range(1,myDf.shape[0]-1):\n",
    "    log_df.loc[i] = myDf.iloc[i,1:]/myDf.iloc[i+1,1:]\n",
    "'''"
   ]
  },
  {
   "cell_type": "code",
   "execution_count": 13,
   "metadata": {
    "collapsed": false
   },
   "outputs": [
   ],
   "source": [
    " log_df.loc[1] = myDf.iloc[1,1:]/myDf.iloc[2,1:]"
   ]
  },
  {
   "cell_type": "code",
   "execution_count": 14,
   "metadata": {
    "collapsed": false
   },
   "outputs": [
    {
     "data": {
      "text/html": [
       "<div>\n",
       "<style scoped>\n",
       "    .dataframe tbody tr th:only-of-type {\n",
       "        vertical-align: middle;\n",
       "    }\n",
       "\n",
       "    .dataframe tbody tr th {\n",
       "        vertical-align: top;\n",
       "    }\n",
       "\n",
       "    .dataframe thead th {\n",
       "        text-align: right;\n",
       "    }\n",
       "</style>\n",
       "<table border=\"1\" class=\"dataframe\">\n",
       "  <thead>\n",
       "    <tr style=\"text-align: right;\">\n",
       "      <th></th>\n",
       "      <th>TSLA_log_return</th>\n",
       "      <th>AAPL_log_return</th>\n",
       "      <th>NVDA_log_return</th>\n",
       "      <th>ORCL_log_return</th>\n",
       "      <th>SPY_log_return</th>\n",
       "      <th>MSFT_log_return</th>\n",
       "      <th>C_log_return</th>\n",
       "      <th>FB_log_return</th>\n",
       "      <th>QQQ_log_return</th>\n",
       "      <th>AMZN_log_return</th>\n",
       "      <th>...</th>\n",
       "      <th>INTC_log_return</th>\n",
       "      <th>PFE_log_return</th>\n",
       "      <th>BAC_log_return</th>\n",
       "      <th>NFLX_log_return</th>\n",
       "      <th>MU_log_return</th>\n",
       "      <th>XOM_log_return</th>\n",
       "      <th>GILD_log_return</th>\n",
       "      <th>SNAP_log_return</th>\n",
       "      <th>GE_log_return</th>\n",
       "      <th>IWM_log_return</th>\n",
       "    </tr>\n",
       "  </thead>\n",
       "  <tbody>\n",
       "    <tr>\n",
       "      <th>0</th>\n",
       "      <td>NaN</td>\n",
       "      <td>NaN</td>\n",
       "      <td>NaN</td>\n",
       "      <td>NaN</td>\n",
       "      <td>NaN</td>\n",
       "      <td>NaN</td>\n",
       "      <td>NaN</td>\n",
       "      <td>NaN</td>\n",
       "      <td>NaN</td>\n",
       "      <td>NaN</td>\n",
       "      <td>...</td>\n",
       "      <td>NaN</td>\n",
       "      <td>NaN</td>\n",
       "      <td>NaN</td>\n",
       "      <td>NaN</td>\n",
       "      <td>NaN</td>\n",
       "      <td>NaN</td>\n",
       "      <td>NaN</td>\n",
       "      <td>NaN</td>\n",
       "      <td>NaN</td>\n",
       "      <td>NaN</td>\n",
       "    </tr>\n",
       "    <tr>\n",
       "      <th>1</th>\n",
       "      <td>NaN</td>\n",
       "      <td>NaN</td>\n",
       "      <td>NaN</td>\n",
       "      <td>NaN</td>\n",
       "      <td>NaN</td>\n",
       "      <td>NaN</td>\n",
       "      <td>NaN</td>\n",
       "      <td>NaN</td>\n",
       "      <td>NaN</td>\n",
       "      <td>NaN</td>\n",
       "      <td>...</td>\n",
       "      <td>NaN</td>\n",
       "      <td>NaN</td>\n",
       "      <td>NaN</td>\n",
       "      <td>NaN</td>\n",
       "      <td>NaN</td>\n",
       "      <td>NaN</td>\n",
       "      <td>NaN</td>\n",
       "      <td>NaN</td>\n",
       "      <td>NaN</td>\n",
       "      <td>NaN</td>\n",
       "    </tr>\n",
       "  </tbody>\n",
       "</table>\n",
       "<p>2 rows × 25 columns</p>\n",
       "</div>"
      ],
      "text/plain": [
       "  TSLA_log_return AAPL_log_return NVDA_log_return ORCL_log_return  \\\n",
       "0             NaN             NaN             NaN             NaN   \n",
       "1             NaN             NaN             NaN             NaN   \n",
       "\n",
       "  SPY_log_return MSFT_log_return C_log_return FB_log_return QQQ_log_return  \\\n",
       "0            NaN             NaN          NaN           NaN            NaN   \n",
       "1            NaN             NaN          NaN           NaN            NaN   \n",
       "\n",
       "  AMZN_log_return  ... INTC_log_return PFE_log_return BAC_log_return  \\\n",
       "0             NaN  ...             NaN            NaN            NaN   \n",
       "1             NaN  ...             NaN            NaN            NaN   \n",
       "\n",
       "  NFLX_log_return MU_log_return XOM_log_return GILD_log_return  \\\n",
       "0             NaN           NaN            NaN             NaN   \n",
       "1             NaN           NaN            NaN             NaN   \n",
       "\n",
       "  SNAP_log_return GE_log_return IWM_log_return  \n",
       "0             NaN           NaN            NaN  \n",
       "1             NaN           NaN            NaN  \n",
       "\n",
       "[2 rows x 25 columns]"
      ]
     },
     "execution_count": 14,
     "metadata": {
     },
     "output_type": "execute_result"
    }
   ],
   "source": [
    "log_df"
   ]
  },
  {
   "cell_type": "code",
   "execution_count": 18,
   "metadata": {
    "collapsed": true
   },
   "outputs": [
    {
     "ename": "TypeError",
     "evalue": "loop of ufunc does not support argument 0 of type numpy.float64 which has no callable log method",
     "output_type": "error",
     "traceback": [
      "\u001b[0;31m---------------------------------------------------------------------------\u001b[0m",
      "\u001b[0;31mAttributeError\u001b[0m                            Traceback (most recent call last)",
      "\u001b[0;31mAttributeError\u001b[0m: 'numpy.float64' object has no attribute 'log'",
      "\nThe above exception was the direct cause of the following exception:\n",
      "\u001b[0;31mTypeError\u001b[0m                                 Traceback (most recent call last)",
      "\u001b[0;32m<ipython-input-18-37386546aaff>\u001b[0m in \u001b[0;36m<module>\u001b[0;34m\u001b[0m\n\u001b[0;32m----> 1\u001b[0;31m \u001b[0mnp\u001b[0m\u001b[0;34m.\u001b[0m\u001b[0mlog\u001b[0m\u001b[0;34m(\u001b[0m\u001b[0mmyDf\u001b[0m\u001b[0;34m.\u001b[0m\u001b[0miloc\u001b[0m\u001b[0;34m[\u001b[0m\u001b[0;36m1\u001b[0m\u001b[0;34m,\u001b[0m\u001b[0;36m1\u001b[0m\u001b[0;34m:\u001b[0m\u001b[0;34m]\u001b[0m\u001b[0;34m)\u001b[0m\u001b[0;34m\u001b[0m\u001b[0;34m\u001b[0m\u001b[0m\n\u001b[0m",
      "\u001b[0;32m/usr/local/lib/python3.8/dist-packages/pandas/core/generic.py\u001b[0m in \u001b[0;36m__array_ufunc__\u001b[0;34m(self, ufunc, method, *inputs, **kwargs)\u001b[0m\n\u001b[1;32m   1934\u001b[0m         \u001b[0mself\u001b[0m\u001b[0;34m,\u001b[0m \u001b[0mufunc\u001b[0m\u001b[0;34m:\u001b[0m \u001b[0mCallable\u001b[0m\u001b[0;34m,\u001b[0m \u001b[0mmethod\u001b[0m\u001b[0;34m:\u001b[0m \u001b[0mstr\u001b[0m\u001b[0;34m,\u001b[0m \u001b[0;34m*\u001b[0m\u001b[0minputs\u001b[0m\u001b[0;34m:\u001b[0m \u001b[0mAny\u001b[0m\u001b[0;34m,\u001b[0m \u001b[0;34m**\u001b[0m\u001b[0mkwargs\u001b[0m\u001b[0;34m:\u001b[0m \u001b[0mAny\u001b[0m\u001b[0;34m\u001b[0m\u001b[0;34m\u001b[0m\u001b[0m\n\u001b[1;32m   1935\u001b[0m     ):\n\u001b[0;32m-> 1936\u001b[0;31m         \u001b[0;32mreturn\u001b[0m \u001b[0marraylike\u001b[0m\u001b[0;34m.\u001b[0m\u001b[0marray_ufunc\u001b[0m\u001b[0;34m(\u001b[0m\u001b[0mself\u001b[0m\u001b[0;34m,\u001b[0m \u001b[0mufunc\u001b[0m\u001b[0;34m,\u001b[0m \u001b[0mmethod\u001b[0m\u001b[0;34m,\u001b[0m \u001b[0;34m*\u001b[0m\u001b[0minputs\u001b[0m\u001b[0;34m,\u001b[0m \u001b[0;34m**\u001b[0m\u001b[0mkwargs\u001b[0m\u001b[0;34m)\u001b[0m\u001b[0;34m\u001b[0m\u001b[0;34m\u001b[0m\u001b[0m\n\u001b[0m\u001b[1;32m   1937\u001b[0m \u001b[0;34m\u001b[0m\u001b[0m\n\u001b[1;32m   1938\u001b[0m     \u001b[0;31m# ideally we would define this to avoid the getattr checks, but\u001b[0m\u001b[0;34m\u001b[0m\u001b[0;34m\u001b[0m\u001b[0;34m\u001b[0m\u001b[0m\n",
      "\u001b[0;32m/usr/local/lib/python3.8/dist-packages/pandas/core/arraylike.py\u001b[0m in \u001b[0;36marray_ufunc\u001b[0;34m(self, ufunc, method, *inputs, **kwargs)\u001b[0m\n\u001b[1;32m    356\u001b[0m         \u001b[0;31m# ufunc(series, ...)\u001b[0m\u001b[0;34m\u001b[0m\u001b[0;34m\u001b[0m\u001b[0;34m\u001b[0m\u001b[0m\n\u001b[1;32m    357\u001b[0m         \u001b[0minputs\u001b[0m \u001b[0;34m=\u001b[0m \u001b[0mtuple\u001b[0m\u001b[0;34m(\u001b[0m\u001b[0mextract_array\u001b[0m\u001b[0;34m(\u001b[0m\u001b[0mx\u001b[0m\u001b[0;34m,\u001b[0m \u001b[0mextract_numpy\u001b[0m\u001b[0;34m=\u001b[0m\u001b[0;32mTrue\u001b[0m\u001b[0;34m)\u001b[0m \u001b[0;32mfor\u001b[0m \u001b[0mx\u001b[0m \u001b[0;32min\u001b[0m \u001b[0minputs\u001b[0m\u001b[0;34m)\u001b[0m\u001b[0;34m\u001b[0m\u001b[0;34m\u001b[0m\u001b[0m\n\u001b[0;32m--> 358\u001b[0;31m         \u001b[0mresult\u001b[0m \u001b[0;34m=\u001b[0m \u001b[0mgetattr\u001b[0m\u001b[0;34m(\u001b[0m\u001b[0mufunc\u001b[0m\u001b[0;34m,\u001b[0m \u001b[0mmethod\u001b[0m\u001b[0;34m)\u001b[0m\u001b[0;34m(\u001b[0m\u001b[0;34m*\u001b[0m\u001b[0minputs\u001b[0m\u001b[0;34m,\u001b[0m \u001b[0;34m**\u001b[0m\u001b[0mkwargs\u001b[0m\u001b[0;34m)\u001b[0m\u001b[0;34m\u001b[0m\u001b[0;34m\u001b[0m\u001b[0m\n\u001b[0m\u001b[1;32m    359\u001b[0m     \u001b[0;32melse\u001b[0m\u001b[0;34m:\u001b[0m\u001b[0;34m\u001b[0m\u001b[0;34m\u001b[0m\u001b[0m\n\u001b[1;32m    360\u001b[0m         \u001b[0;31m# ufunc(dataframe)\u001b[0m\u001b[0;34m\u001b[0m\u001b[0;34m\u001b[0m\u001b[0;34m\u001b[0m\u001b[0m\n",
      "\u001b[0;31mTypeError\u001b[0m: loop of ufunc does not support argument 0 of type numpy.float64 which has no callable log method"
     ]
    }
   ],
   "source": [
    "log_df = np.log10(log_df.iloc[,1:])"
   ]
  },
  {
   "cell_type": "code",
   "execution_count": 0,
   "metadata": {
    "collapsed": false
   },
   "outputs": [
   ],
   "source": [
    "log_df['timeStamp'] = myD.iloc[:,1]"
   ]
  },
  {
   "cell_type": "code",
   "execution_count": 0,
   "metadata": {
    "collapsed": false
   },
   "outputs": [
   ],
   "source": [
   ]
  },
  {
   "cell_type": "code",
   "execution_count": 0,
   "metadata": {
    "collapsed": false
   },
   "outputs": [
   ],
   "source": [
   ]
  },
  {
   "cell_type": "code",
   "execution_count": 0,
   "metadata": {
    "collapsed": false
   },
   "outputs": [
   ],
   "source": [
   ]
  }
 ],
 "metadata": {
  "kernelspec": {
   "display_name": "Python 3 (system-wide)",
   "language": "python",
   "metadata": {
    "cocalc": {
     "description": "Python 3 programming language",
     "priority": 100,
     "url": "https://www.python.org/"
    }
   },
   "name": "python3",
   "resource_dir": "/ext/jupyter/kernels/python3"
  },
  "language_info": {
   "codemirror_mode": {
    "name": "ipython",
    "version": 3
   },
   "file_extension": ".py",
   "mimetype": "text/x-python",
   "name": "python",
   "nbconvert_exporter": "python",
   "pygments_lexer": "ipython3",
   "version": "3.8.5"
  }
 },
 "nbformat": 4,
 "nbformat_minor": 4
}